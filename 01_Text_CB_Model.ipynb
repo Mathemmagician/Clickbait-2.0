{
 "cells": [
  {
   "cell_type": "markdown",
   "metadata": {},
   "source": [
    "# Clickbait 2.0\n",
    "This is a second more serious attempt at cracking the clickbait problem. The idea is to make 1 step back to make 2 steps forward. \n",
    "Let's first do text clickbait classification, which will help us with labeling in the future."
   ]
  },
  {
   "cell_type": "code",
   "execution_count": 102,
   "metadata": {},
   "outputs": [
    {
     "name": "stdout",
     "output_type": "stream",
     "text": [
      "2.1.0\n"
     ]
    }
   ],
   "source": [
    "    import pandas as pd\n",
    "    import numpy as np\n",
    "    import matplotlib.pyplot as plt\n",
    "    import tensorflow as tf\n",
    "    from tensorflow import keras\n",
    "    from tensorflow.keras import layers\n",
    "\n",
    "    np.random.seed(179)\n",
    "    print(tf.__version__) # 2.x required"
   ]
  },
  {
   "cell_type": "code",
   "execution_count": 33,
   "metadata": {},
   "outputs": [],
   "source": [
    "cb_filename = \"data/clickbait_data\"\n",
    "nocb_filename = \"data/non_clickbait_data\""
   ]
  },
  {
   "cell_type": "code",
   "execution_count": 105,
   "metadata": {},
   "outputs": [
    {
     "data": {
      "text/html": [
       "<div>\n",
       "<style scoped>\n",
       "    .dataframe tbody tr th:only-of-type {\n",
       "        vertical-align: middle;\n",
       "    }\n",
       "\n",
       "    .dataframe tbody tr th {\n",
       "        vertical-align: top;\n",
       "    }\n",
       "\n",
       "    .dataframe thead th {\n",
       "        text-align: right;\n",
       "    }\n",
       "</style>\n",
       "<table border=\"1\" class=\"dataframe\">\n",
       "  <thead>\n",
       "    <tr style=\"text-align: right;\">\n",
       "      <th></th>\n",
       "      <th>text</th>\n",
       "      <th>Clickbait</th>\n",
       "    </tr>\n",
       "  </thead>\n",
       "  <tbody>\n",
       "    <tr>\n",
       "      <th>24400</th>\n",
       "      <td>Thai Queen attends protester cremation as repo...</td>\n",
       "      <td>0</td>\n",
       "    </tr>\n",
       "    <tr>\n",
       "      <th>12834</th>\n",
       "      <td>13 Dogs Who Look Just Like The 2016 Presidenti...</td>\n",
       "      <td>1</td>\n",
       "    </tr>\n",
       "    <tr>\n",
       "      <th>3587</th>\n",
       "      <td>We Know If You're Hungry Based On Your Reactio...</td>\n",
       "      <td>1</td>\n",
       "    </tr>\n",
       "    <tr>\n",
       "      <th>14929</th>\n",
       "      <td>Which Albus Dumbledore Quote Should Be Your Li...</td>\n",
       "      <td>1</td>\n",
       "    </tr>\n",
       "    <tr>\n",
       "      <th>16921</th>\n",
       "      <td>Corporate Jets Sitting Out the Super Bowl Germ...</td>\n",
       "      <td>0</td>\n",
       "    </tr>\n",
       "  </tbody>\n",
       "</table>\n",
       "</div>"
      ],
      "text/plain": [
       "                                                    text  Clickbait\n",
       "24400  Thai Queen attends protester cremation as repo...          0\n",
       "12834  13 Dogs Who Look Just Like The 2016 Presidenti...          1\n",
       "3587   We Know If You're Hungry Based On Your Reactio...          1\n",
       "14929  Which Albus Dumbledore Quote Should Be Your Li...          1\n",
       "16921  Corporate Jets Sitting Out the Super Bowl Germ...          0"
      ]
     },
     "execution_count": 105,
     "metadata": {},
     "output_type": "execute_result"
    }
   ],
   "source": [
    "def load_data(filename, cb_label):\n",
    "    # cb_label: 1 if clickbait, 0 if not \n",
    "    with open(filename, \"r\") as f:\n",
    "        file = f.read()\n",
    "    lines = file.split('\\n\\n')\n",
    "    # Clean from line breaks and empty entries\n",
    "    lines = [line.replace('\\n', ' ') for line in lines if len(line) > 0]\n",
    "    \n",
    "    lines = pd.DataFrame({'text':lines}) # Create Pandas dataFrame\n",
    "    lines['Clickbait'] = cb_label\n",
    "    \n",
    "    return lines\n",
    "\n",
    "\n",
    "cb_df = load_data(cb_filename, 1)\n",
    "nocb_df = load_data(nocb_filename, 0)\n",
    "\n",
    "df = pd.concat([cb_df, nocb_df], axis=0).reset_index(drop=True).sample(frac=1)\n",
    "df.head()"
   ]
  },
  {
   "cell_type": "code",
   "execution_count": 121,
   "metadata": {},
   "outputs": [],
   "source": [
    "from sklearn.model_selection import train_test_split\n",
    "\n",
    "def split_data(df):\n",
    "    temp = train_test_split(df)\n",
    "    train_text = temp[0]['text'].values\n",
    "    train_label = temp[0]['Clickbait'].values\n",
    "    test_text = temp[1]['text'].values\n",
    "    test_label = temp[1]['Clickbait'].values\n",
    "    return (train_text, train_label), (test_text, test_label)\n",
    "    \n",
    "(train_text, train_label), (test_text, test_label) = split_data(df)"
   ]
  },
  {
   "cell_type": "code",
   "execution_count": 104,
   "metadata": {},
   "outputs": [],
   "source": [
    "import tensorflow_hub as hub\n",
    "\n",
    "embed = hub.load(\"https://tfhub.dev/google/nnlm-en-dim128/2\")\n",
    "\n",
    "hub_layer = hub.KerasLayer(\"https://tfhub.dev/google/nnlm-en-dim128/2\",\n",
    "                           input_shape=[], dtype=tf.string)"
   ]
  },
  {
   "cell_type": "code",
   "execution_count": 126,
   "metadata": {},
   "outputs": [
    {
     "name": "stdout",
     "output_type": "stream",
     "text": [
      "Model: \"sequential_4\"\n",
      "_________________________________________________________________\n",
      "Layer (type)                 Output Shape              Param #   \n",
      "=================================================================\n",
      "keras_layer_1 (KerasLayer)   (None, 128)               124642688 \n",
      "_________________________________________________________________\n",
      "dense_8 (Dense)              (None, 128)               16512     \n",
      "_________________________________________________________________\n",
      "dense_9 (Dense)              (None, 1)                 129       \n",
      "=================================================================\n",
      "Total params: 124,659,329\n",
      "Trainable params: 16,641\n",
      "Non-trainable params: 124,642,688\n",
      "_________________________________________________________________\n"
     ]
    }
   ],
   "source": [
    "model = keras.Sequential()\n",
    "model.add(hub_layer)\n",
    "model.add(keras.layers.Dense(128, activation='relu'))\n",
    "model.add(keras.layers.Dense(1, activation='sigmoid'))\n",
    "\n",
    "model.summary()"
   ]
  },
  {
   "cell_type": "code",
   "execution_count": 127,
   "metadata": {},
   "outputs": [],
   "source": [
    "model.compile(loss='binary_crossentropy', optimizer='adam', metrics=['accuracy'])"
   ]
  },
  {
   "cell_type": "code",
   "execution_count": 131,
   "metadata": {},
   "outputs": [
    {
     "name": "stdout",
     "output_type": "stream",
     "text": [
      "Train on 19500 samples, validate on 6500 samples\n",
      "Epoch 1/5\n",
      "19500/19500 [==============================] - 1s 65us/sample - loss: 0.0089 - accuracy: 0.9969 - val_loss: 0.0146 - val_accuracy: 0.9943\n",
      "Epoch 2/5\n",
      "19500/19500 [==============================] - 1s 63us/sample - loss: 0.0081 - accuracy: 0.9971 - val_loss: 0.0138 - val_accuracy: 0.9949\n",
      "Epoch 3/5\n",
      "19500/19500 [==============================] - 1s 62us/sample - loss: 0.0072 - accuracy: 0.9974 - val_loss: 0.0182 - val_accuracy: 0.9937\n",
      "Epoch 4/5\n",
      "19500/19500 [==============================] - 1s 62us/sample - loss: 0.0069 - accuracy: 0.9975 - val_loss: 0.0138 - val_accuracy: 0.9952\n",
      "Epoch 5/5\n",
      "19500/19500 [==============================] - 1s 62us/sample - loss: 0.0059 - accuracy: 0.9980 - val_loss: 0.0140 - val_accuracy: 0.9951\n"
     ]
    }
   ],
   "source": [
    "history = model.fit(train_text, train_label, epochs=5, validation_data=(test_text, test_label))"
   ]
  },
  {
   "cell_type": "code",
   "execution_count": 132,
   "metadata": {},
   "outputs": [
    {
     "data": {
      "image/png": "[encoded data removed]",
      "text/plain": [
       "<Figure size 432x288 with 1 Axes>"
      ]
     },
     "metadata": {
      "needs_background": "light"
     },
     "output_type": "display_data"
    }
   ],
   "source": [
    "def plot_graphs(history, metric):\n",
    "    plt.plot(history.history[metric])\n",
    "    plt.plot(history.history['val_'+metric], '')\n",
    "    plt.xlabel(\"Epochs\")\n",
    "    plt.ylabel(metric)\n",
    "    plt.legend([metric, 'val_'+metric])\n",
    "    plt.show()\n",
    "    \n",
    "plot_graphs(history, \"accuracy\")"
   ]
  },
  {
   "cell_type": "code",
   "execution_count": 195,
   "metadata": {},
   "outputs": [
    {
     "data": {
      "text/plain": [
       "array([[False],\n",
       "       [False],\n",
       "       [ True],\n",
       "       [ True],\n",
       "       [False],\n",
       "       [ True],\n",
       "       [False],\n",
       "       [ True],\n",
       "       [ True],\n",
       "       [ True],\n",
       "       [False],\n",
       "       [False],\n",
       "       [ True],\n",
       "       [ True],\n",
       "       [ True],\n",
       "       [False],\n",
       "       [False],\n",
       "       [False],\n",
       "       [False],\n",
       "       [ True],\n",
       "       [False]])"
      ]
     },
     "execution_count": 195,
     "metadata": {},
     "output_type": "execute_result"
    }
   ],
   "source": [
    "model.predict([\"regular news\", \n",
    "                \"Barack Obama did something amazing\",\n",
    "                \"MUST WATCH\", \n",
    "                \"OMG\", \n",
    "              \"17 ways why you must do that thing\",\n",
    "              \"100 Times ‘Stop Clickbait’ Hilariously Summarized Clickbait Articles And Saved You A Click (New Pics)\",\n",
    "              \"10 ways to get rich\",\n",
    "               \"10 WAYS TO GET RICH\",\n",
    "               \"You will never see it\",\n",
    "               \"Surprising Our Mom With EPIC BACKYARD MAKEOVER\",\n",
    "               \"so i shaved my head\",\n",
    "               \"Going to the Weed Research Lab in Colorado\",\n",
    "               \"Do All Millionaires Think The Same?\",\n",
    "               \"Buying The 7 Strangest Things Wish Recommended Me!\",\n",
    "               \"5 Seconds of Summer - Spilling the Quarantea (Full Video)\",\n",
    "               \"NY Gov. Andrew Cuomo Holds Coronavirus Briefing | NBC News\",\n",
    "               \"Trump proposes ban on legal immigration over coronavirus crisis\",\n",
    "               \"CDC director says possible second Covid-19 wave could be worse\",\n",
    "               \"Gupta reacts to Georgia's safety guidelines: It's ridiculous\",\n",
    "               \"Trump: ‘We Don’t Know’ About North Korean Leader Kim's Health\",\n",
    "               \"New study shows hydroxychloroquine didn't work against Covid-19\"\n",
    "              ]) > 0.5"
   ]
  },
  {
   "cell_type": "code",
   "execution_count": 165,
   "metadata": {},
   "outputs": [],
   "source": [
    "model.save('pretrained_dense.h5')"
   ]
  },
  {
   "cell_type": "markdown",
   "metadata": {},
   "source": [
    "Links and papers that seemed useful:\n",
    "\n",
    "[Misleading Online Content: Recognizing Clickbait as \"False News\"](https://www.researchgate.net/profile/Victoria_Rubin/publication/283721117_Misleading_Online_Content_Recognizing_Clickbait_as_False_News/links/5644c4b108ae54697fb813d1/Misleading-Online-Content-Recognizing-Clickbait-as-False-News.pdf)\n",
    "\n",
    "[nnlm-en-dim128 Sentence Embedding model by Google](http://www.jmlr.org/papers/volume3/bengio03a/bengio03a.pdf)\n"
   ]
  },
  {
   "cell_type": "code",
   "execution_count": null,
   "metadata": {},
   "outputs": [],
   "source": []
  }
 ],
 "metadata": {
  "kernelspec": {
   "display_name": "Python 3",
   "language": "python",
   "name": "python3"
  },
  "language_info": {
   "codemirror_mode": {
    "name": "ipython",
    "version": 3
   },
   "file_extension": ".py",
   "mimetype": "text/x-python",
   "name": "python",
   "nbconvert_exporter": "python",
   "pygments_lexer": "ipython3",
   "version": "3.7.5"
  }
 },
 "nbformat": 4,
 "nbformat_minor": 4
}
