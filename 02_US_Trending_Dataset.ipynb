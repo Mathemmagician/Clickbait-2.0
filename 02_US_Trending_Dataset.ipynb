{
 "cells": [
  {
   "cell_type": "markdown",
   "metadata": {},
   "source": [
    "## Recap:\n",
    "In last notebook we created a Model to classify CBtiness of a text title. Given that our dataset was based more on news article, our actual accuracy will be smaller that the achieved 99.5%, but should still be very high.\n",
    "\n",
    "Now we will use a .csv which can be found at this [kaggle link](https://www.kaggle.com/datasnaek/youtube-new#USvideos.csv) for US treinding videos in 2017. We will do several things:\n",
    "\n",
    "1. Load and Preview the .csv file\n",
    "2. Load our TextCB Model\n",
    "3. Create a CB column using the model based on video titles \n",
    "4. Load Thumbnails (which we already have most of the code from Clickbait 1.0)\n",
    "5. STOP! No training yet"
   ]
  },
  {
   "cell_type": "code",
   "execution_count": null,
   "metadata": {},
   "outputs": [],
   "source": []
  }
 ],
 "metadata": {
  "kernelspec": {
   "display_name": "Python 3",
   "language": "python",
   "name": "python3"
  },
  "language_info": {
   "codemirror_mode": {
    "name": "ipython",
    "version": 3
   },
   "file_extension": ".py",
   "mimetype": "text/x-python",
   "name": "python",
   "nbconvert_exporter": "python",
   "pygments_lexer": "ipython3",
   "version": "3.7.5"
  }
 },
 "nbformat": 4,
 "nbformat_minor": 4
}
